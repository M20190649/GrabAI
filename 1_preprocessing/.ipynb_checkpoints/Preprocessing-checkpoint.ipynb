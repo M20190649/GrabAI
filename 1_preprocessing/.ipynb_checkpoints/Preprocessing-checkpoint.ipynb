{
 "cells": [
  {
   "cell_type": "markdown",
   "metadata": {},
   "source": [
    "### Imports, datasets and helper functions"
   ]
  },
  {
   "cell_type": "code",
   "execution_count": 1,
   "metadata": {},
   "outputs": [],
   "source": [
    "from datetime import date, timedelta, datetime\n",
    "import math\n",
    "\n",
    "import numpy as np\n",
    "import pandas as pd\n",
    "import matplotlib.pyplot as plt\n",
    "import seaborn as sns\n",
    "\n",
    "from geolib import geohash as geo"
   ]
  },
  {
   "cell_type": "code",
   "execution_count": 2,
   "metadata": {},
   "outputs": [],
   "source": [
    "df = pd.read_csv('./../data_raw/training.csv')"
   ]
  },
  {
   "cell_type": "code",
   "execution_count": null,
   "metadata": {},
   "outputs": [],
   "source": []
  },
  {
   "cell_type": "markdown",
   "metadata": {},
   "source": [
    "### Data checking and simple EDA"
   ]
  },
  {
   "cell_type": "code",
   "execution_count": 3,
   "metadata": {},
   "outputs": [
    {
     "name": "stdout",
     "output_type": "stream",
     "text": [
      "Checking duplicates:\n",
      "Empty DataFrame\n",
      "Columns: [geohash6, day, timestamp, demand]\n",
      "Index: []\n",
      "\n",
      "Null values:\n",
      "geohash6     0\n",
      "day          0\n",
      "timestamp    0\n",
      "demand       0\n",
      "dtype: int64\n",
      "\n",
      "Data types: \n",
      " geohash6      object\n",
      "day            int64\n",
      "timestamp     object\n",
      "demand       float64\n",
      "dtype: object\n"
     ]
    }
   ],
   "source": [
    "# data checking\n",
    "\n",
    "duplicate_rows_df = df[df.duplicated()]\n",
    "print(\"Checking duplicates:\")\n",
    "print(duplicate_rows_df)\n",
    "print()\n",
    "\n",
    "print(\"Null values:\")\n",
    "print(df.isna().sum())\n",
    "\n",
    "print(\"\\nData types: \\n\", df.dtypes)"
   ]
  },
  {
   "cell_type": "code",
   "execution_count": 4,
   "metadata": {},
   "outputs": [
    {
     "name": "stdout",
     "output_type": "stream",
     "text": [
      "                day        demand\n",
      "count  4.206321e+06  4.206321e+06\n",
      "mean   3.145299e+01  1.050907e-01\n",
      "std    1.768278e+01  1.592655e-01\n",
      "min    1.000000e+00  3.092217e-09\n",
      "25%    1.600000e+01  1.867379e-02\n",
      "50%    3.200000e+01  5.043463e-02\n",
      "75%    4.700000e+01  1.208644e-01\n",
      "max    6.100000e+01  1.000000e+00\n",
      "96\n"
     ]
    }
   ],
   "source": [
    "# Describe dataframe:\n",
    "\n",
    "# 4 million instances, 1329 locations\n",
    "# Day is 1 - 61\n",
    "# Demand ranges from: 3.09*10^-9 - 1 (normalized)\n",
    "# Timestamps are strings with 15min intervals e.g. \"0:0\",\"0:15\",\"0:30\",\"0:45\"\n",
    "print(df.describe())\n",
    "\n",
    "# Verify timestamps are correct: 96 x 15mins in a day\n",
    "print(len(sorted(list(set(df['timestamp'])))))\n",
    "\n",
    "# A few other checks (omitted for brevity) show that:\n",
    "# there are missing data for all locations in varying amounts\n",
    "    # to be filled in later\n",
    "# certain timstamps are missing values for all locations\n",
    "    # add missing timestamps to dataframe and fill with NaN"
   ]
  },
  {
   "cell_type": "code",
   "execution_count": 5,
   "metadata": {
    "scrolled": true
   },
   "outputs": [
    {
     "data": {
      "image/png": "[encoded data removed]",
      "text/plain": [
       "<Figure size 432x288 with 1 Axes>"
      ]
     },
     "metadata": {
      "needs_background": "light"
     },
     "output_type": "display_data"
    }
   ],
   "source": [
    "# Skew to left (demand = 0), trailing tail after demand=0.3, until demand=1.0\n",
    "\n",
    "sns.boxplot(x=df['demand'], color='lime')\n",
    "plt.xlabel('Taxi Demand', fontsize=14)\n",
    "plt.show()"
   ]
  },
  {
   "cell_type": "code",
   "execution_count": null,
   "metadata": {},
   "outputs": [],
   "source": []
  },
  {
   "cell_type": "markdown",
   "metadata": {},
   "source": [
    "### Preprocess data: \n",
    "#### Parse datetime and transform dataframe format"
   ]
  },
  {
   "cell_type": "code",
   "execution_count": 6,
   "metadata": {},
   "outputs": [],
   "source": [
    "NUM_DAYS = max(df['day'])\n",
    "START_DATE = date(2019, 4, 1) # arbitrary value chosen for first day of dataset\n",
    "# April has 30 days, May 31, making up the 61 days in train set\n",
    "\n",
    "# Parse datetime using arbitrary start date, modifies in place\n",
    "def parse_datetime(df):\n",
    "    global START_DATE\n",
    "    start_date = START_DATE\n",
    "    \n",
    "    # Convert 'day' and 'timestamp' cols to datetime\n",
    "    df[['hour','minute']] = df['timestamp'].str.split(':',expand=True)\n",
    "    df['datetime'] = df['day'].apply(lambda x:start_date+pd.to_timedelta(x, unit='D')-timedelta(days=1))\n",
    "    df['day'] =  df['datetime'].apply(lambda x:int(x.strftime('%d')))\n",
    "    df['month'] =   df['datetime'].apply(lambda x:int(x.strftime('%m')))\n",
    "    df['dow'] = (df['day'] -1) % 7\n",
    "    \n",
    "    # require unique for index\n",
    "    df['datetime'] = pd.to_datetime(dict(year=2019, month=df.month, day=df.day, hour=df.hour, minute=df.minute)) "
   ]
  },
  {
   "cell_type": "code",
   "execution_count": 7,
   "metadata": {},
   "outputs": [],
   "source": [
    "# Transform dataset such that dates are the columns, rows are the locations and cells are the demand values.\n",
    "# Also fill missing dates.\n",
    "\n",
    "def transform_df(df):\n",
    "    global START_DATE, NUM_DAYS\n",
    "    start_date, num_days = START_DATE, NUM_DAYS\n",
    "    df_transformed = df.set_index(\n",
    "        [\"geohash6\", \"datetime\"])[[\"demand\"]].unstack(\n",
    "            level=-1).fillna(-1)\n",
    "    df_transformed.columns = df_transformed.columns.get_level_values(1)\n",
    "\n",
    "    # fill in missing timestamp cols (all on 18/4)\n",
    "    start_date = start_date\n",
    "    end_date = start_date + timedelta(days=num_days)\n",
    "    missing_cols = sorted(list(set(pd.date_range(start_date, end_date, freq='15min').values).difference(set(df_transformed.columns.values))))[:-1] # get rid of 6/1\n",
    "\n",
    "    missing_dates = {}\n",
    "    for i in missing_cols:\n",
    "        missing_dates[i] = [-1]*len(df_transformed.index)\n",
    "    missing_dates = pd.DataFrame(missing_dates)\n",
    "    missing_dates.index = df_transformed.index\n",
    "\n",
    "    df_transformed = pd.concat([df_transformed,missing_dates], axis=1)\n",
    "    df_transformed = df_transformed.reindex(sorted(df_transformed.columns), axis=1)\n",
    "    df_transformed.columns = pd.DatetimeIndex(df_transformed.columns)\n",
    "    \n",
    "    return df_transformed"
   ]
  },
  {
   "cell_type": "code",
   "execution_count": 8,
   "metadata": {},
   "outputs": [],
   "source": [
    "parse_datetime(df) # takes a min\n",
    "df_transformed = transform_df(df)\n",
    "df_transformed.to_csv(\"./../data_temp/training_transformed.csv\")\n",
    "df.to_csv(\"./../data_temp/training_timestamps.csv\")"
   ]
  },
  {
   "cell_type": "code",
   "execution_count": null,
   "metadata": {},
   "outputs": [],
   "source": []
  },
  {
   "cell_type": "markdown",
   "metadata": {},
   "source": [
    "### NaN EDA: "
   ]
  },
  {
   "cell_type": "code",
   "execution_count": 9,
   "metadata": {},
   "outputs": [
    {
     "name": "stdout",
     "output_type": "stream",
     "text": [
      "Number of NaNs: 3576303 / 7782624 \n",
      "\n",
      "count    5856.000000\n",
      "mean      610.707480\n",
      "std       233.767159\n",
      "min       256.000000\n",
      "25%       422.000000\n",
      "50%       508.000000\n",
      "75%       820.000000\n",
      "max      1329.000000\n",
      "dtype: float64 \n",
      "\n",
      "count    1329.000000\n",
      "mean     2690.972912\n",
      "std      2032.288462\n",
      "min        10.000000\n",
      "25%       809.000000\n",
      "50%      2398.000000\n",
      "75%      4615.000000\n",
      "max      5855.000000\n",
      "dtype: float64\n"
     ]
    }
   ],
   "source": [
    "# 1329 locations\n",
    "# around 3.5m out of 7.7m values are NaNs\n",
    "\n",
    "df_transformed = df_transformed.replace(-1, np.nan)\n",
    "num_nan = df_transformed.isna().sum().sum()\n",
    "total_num = df_transformed.shape[0] * df_transformed.shape[1]\n",
    "print(\"Number of NaNs:\", num_nan, \"/\", total_num, \"\\n\")\n",
    "\n",
    "# 256 - 1329 NaNs per day across all locations, on average 610 NaNs\n",
    "print(df_transformed.isna().sum().describe(), \"\\n\")\n",
    "\n",
    "# for any location, on average they are missing 2690 timestamps out of 5856,\n",
    "# min: 10, max: 5855\n",
    "print(df_transformed.isna().sum(axis=1).describe())"
   ]
  },
  {
   "cell_type": "code",
   "execution_count": null,
   "metadata": {},
   "outputs": [],
   "source": []
  }
 ],
 "metadata": {
  "kernelspec": {
   "display_name": "Python 3",
   "language": "python",
   "name": "python3"
  },
  "language_info": {
   "codemirror_mode": {
    "name": "ipython",
    "version": 3
   },
   "file_extension": ".py",
   "mimetype": "text/x-python",
   "name": "python",
   "nbconvert_exporter": "python",
   "pygments_lexer": "ipython3",
   "version": "3.7.3"
  }
 },
 "nbformat": 4,
 "nbformat_minor": 2
}

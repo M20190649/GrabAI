{
 "cells": [
  {
   "cell_type": "markdown",
   "metadata": {},
   "source": [
    "### Imports, datasets and helper functions"
   ]
  },
  {
   "cell_type": "code",
   "execution_count": 1,
   "metadata": {},
   "outputs": [],
   "source": [
    "from datetime import date, timedelta, datetime\n",
    "from math import radians, cos, sin, asin, sqrt, floor\n",
    "\n",
    "import numpy as np\n",
    "import pandas as pd\n",
    "\n",
    "import seaborn as sns\n",
    "import matplotlib.pyplot as plt\n",
    "from mpl_toolkits.axes_grid1 import AxesGrid"
   ]
  },
  {
   "cell_type": "code",
   "execution_count": 2,
   "metadata": {},
   "outputs": [
    {
     "data": {
      "text/plain": [
       "3576303"
      ]
     },
     "execution_count": 2,
     "metadata": {},
     "output_type": "execute_result"
    }
   ],
   "source": [
    "df = pd.read_csv(\"./../data_temp/training_transformed.csv\")\n",
    "df = df.set_index(\"geohash6\")\n",
    "df = df.replace(-1, np.nan)\n",
    "df.columns = pd.DatetimeIndex(df.columns)\n",
    "\n",
    "# Check number of NaN at first\n",
    "df.isna().sum().sum()"
   ]
  },
  {
   "cell_type": "code",
   "execution_count": 3,
   "metadata": {},
   "outputs": [],
   "source": [
    "NUM_DAYS = (max(df.columns) - min(df.columns)).days + 1"
   ]
  },
  {
   "cell_type": "code",
   "execution_count": null,
   "metadata": {},
   "outputs": [],
   "source": []
  },
  {
   "cell_type": "markdown",
   "metadata": {},
   "source": [
    "### Filling in by seasonal average"
   ]
  },
  {
   "cell_type": "code",
   "execution_count": 4,
   "metadata": {},
   "outputs": [],
   "source": [
    "# Estimate missing values, using weekly averages against the first week average\n",
    "\n",
    "def create_seasonal_df(df, dt):\n",
    "    global NUM_DAYS\n",
    "    NUM_WEEKS = floor(NUM_DAYS/7)\n",
    "    \n",
    "    # split df by week\n",
    "    df_list = []\n",
    "    cols =  [x for x in range(96*7)] # 1 week of cols\n",
    "    for i in range(NUM_WEEKS):\n",
    "        temp = df[df.columns[i*96*7: (i+1)*96*7]]\n",
    "        temp.columns = cols\n",
    "        df_list.append(temp)\n",
    "    temp = df[df.columns[NUM_WEEKS*96*7:]] # remaining days\n",
    "    temp = temp.reindex(columns = cols) # pad\n",
    "    df_list.append(temp) \n",
    "    \n",
    "    # group by index and average, to get weekly average\n",
    "    df_week_ave = pd.concat(df_list, axis=0)\n",
    "    df_week_ave = df_week_ave.groupby(df_week_ave.index).mean()\n",
    "    \n",
    "    # get ratio: weekly average divide by first week\n",
    "    week_ratio = df.transpose().resample('7D').sum().transpose().mean(axis=0)\n",
    "    week_ratio = (week_ratio / week_ratio[0]).values\n",
    "    \n",
    "    # create a seasonal dataframe BY multiplING by weekly average by weekly ratios\n",
    "    df_seasonal = []\n",
    "    for i in range(NUM_WEEKS+1):\n",
    "        df_seasonal.append(df_week_ave*week_ratio[i])\n",
    "    df_seasonal = pd.concat(df_seasonal, axis=1)\n",
    "    df_seasonal = df_seasonal.iloc[:, 0:NUM_DAYS*96] # drop padded values\n",
    "                              \n",
    "    ''' DEPRECATED - USED TO USE DAILY RATIO TO FILL REMAINING DAYS\n",
    "    # generate weekly datetime ranges, starting from day=1\n",
    "    date_range_list = []\n",
    "    for i in range(NUM_WEEKS+1): # number of weeks +1 to account for remaining dates\n",
    "        startDate =  dt + timedelta(days=7*i)\n",
    "        endDate = startDate + timedelta(days=7)\n",
    "        date_range_list.append(pd.date_range(startDate, endDate, freq=\"15min\").values[:-1]) # skip last entry \n",
    "\n",
    "    # split df based on date ranges, then group and average, to get weekly average.\n",
    "    df_list = []\n",
    "    for i in (date_range_list):\n",
    "        temp = df[i]\n",
    "        temp.columns = [x for x in range(0, len(temp.columns))]\n",
    "        df_list.append(temp)\n",
    "    df_week_ave = pd.concat(df_list, axis=0)\n",
    "    df_week_ave = df_week_ave.groupby(df_week_ave.index).mean()\n",
    "    \n",
    "    # get ratio: weekly average divide by first week\n",
    "    df_temp = df[pd.date_range(dt, dt+timedelta(days=NUM_WEEKS * 7), freq=\"15min\")[:-1]]\n",
    "    weekly_resampled = df_temp.transpose().resample('7D').sum().transpose().sum(axis=0)\n",
    "    weekly_resampled = (weekly_resampled / weekly_resampled[0]).values\n",
    "\n",
    "    # create a seasonal dataframe multipled by weekly average (NUM_DAYS/7 weeks worth)\n",
    "    df_seasonal = []\n",
    "    for i in range(NUM_WEEKS+1):\n",
    "        df_seasonal.append(df_week_ave*weekly_resampled[i])\n",
    "    df_seasonal = pd.concat(df_seasonal, axis=1)\n",
    "    \n",
    "    # handle remaining dates that arent filled using same method but on a daily basis\n",
    "    # get the remaining days and resample daily\n",
    "    first_timeslot = NUM_WEEKS*7*96\n",
    "    temp1 = df[df.columns[first_timeslot:]].transpose().resample('D').sum().transpose().sum(axis=0)\n",
    "    # get 1 week earlier\n",
    "    temp2 = df[df.columns[first_timeslot-(7*96):first_timeslot+(7-DAYS_LEFT)*96]].transpose().resample('D').sum().transpose().sum(axis=0)[:DAYS_LEFT]\n",
    "    ratio = temp1.values/temp2.values\n",
    "\n",
    "    # Take previous week's 5 days and multiply by ratio, before filling up\n",
    "    for i in range(DAYS_LEFT):\n",
    "        start = first_timeslot - (7*96) + 96*i\n",
    "        end = start + 96\n",
    "        df_day = df[df.columns[start:end]]\n",
    "        df_day = df_day * ratio[i]\n",
    "        df_seasonal = pd.concat([df_seasonal, df_day], axis=1)\n",
    "    '''\n",
    "    \n",
    "    return df_seasonal"
   ]
  },
  {
   "cell_type": "code",
   "execution_count": 5,
   "metadata": {},
   "outputs": [],
   "source": [
    "# add generated values to df without altering original values\n",
    "\n",
    "def add_without_alter(df, df_gen):\n",
    "    df_temp = df.replace(np.nan, -1)\n",
    "    df_temp[df_temp > 0] = 0\n",
    "    df_temp = df_temp.replace(-1, 1) # from original df, set np.nan as 1, float value as 0\n",
    "    df_gen.index, df_gen.columns = df.index, df.columns\n",
    "    df_gen = df_gen * df_temp # multiply to get rid of original values in df_gen\n",
    "    \n",
    "    # now we can just add it to df\n",
    "    df_gen.index, df_gen.columns = df.index, df.columns\n",
    "    return (df.replace(np.nan, 0) + df_gen.replace(np.nan, 0)).replace(0, np.nan)"
   ]
  },
  {
   "cell_type": "code",
   "execution_count": 6,
   "metadata": {},
   "outputs": [],
   "source": [
    "# Fill seasonally\n",
    "\n",
    "df_seasonal = create_seasonal_df(df, datetime(2019,4,1, 0, 0))\n",
    "df_seasonal = add_without_alter(df, df_seasonal)"
   ]
  },
  {
   "cell_type": "code",
   "execution_count": 7,
   "metadata": {},
   "outputs": [
    {
     "data": {
      "text/plain": [
       "2173762"
      ]
     },
     "execution_count": 7,
     "metadata": {},
     "output_type": "execute_result"
    }
   ],
   "source": [
    "df_seasonal.isna().sum().sum() # filled 1 million values using seasonality"
   ]
  },
  {
   "cell_type": "code",
   "execution_count": null,
   "metadata": {},
   "outputs": [],
   "source": []
  },
  {
   "cell_type": "markdown",
   "metadata": {},
   "source": [
    "### Fill the rest by an average of ffill, bfill and interpolate"
   ]
  },
  {
   "cell_type": "code",
   "execution_count": 8,
   "metadata": {},
   "outputs": [],
   "source": [
    "def fill_rest(df):\n",
    "    df_ffill = df.ffill(axis=1)\n",
    "    df_bfill = df.bfill(axis=1)\n",
    "    df_interpolate = df.interpolate(axis=1)\n",
    "    return df_ffill, df_bfill, df_interpolate"
   ]
  },
  {
   "cell_type": "code",
   "execution_count": 9,
   "metadata": {},
   "outputs": [],
   "source": [
    "df_temp = pd.concat(list(fill_rest(df)))\n",
    "df_temp = df_temp.groupby('geohash6').mean()\n",
    "df_final = add_without_alter(df_seasonal, df_temp)\n",
    "del df_temp, df_seasonal"
   ]
  },
  {
   "cell_type": "code",
   "execution_count": 10,
   "metadata": {},
   "outputs": [
    {
     "data": {
      "text/plain": [
       "0"
      ]
     },
     "execution_count": 10,
     "metadata": {},
     "output_type": "execute_result"
    }
   ],
   "source": [
    "df_final.isna().sum().sum() # filled in all remaining values"
   ]
  },
  {
   "cell_type": "code",
   "execution_count": null,
   "metadata": {},
   "outputs": [],
   "source": []
  },
  {
   "cell_type": "markdown",
   "metadata": {},
   "source": [
    "### Add noise to generated values"
   ]
  },
  {
   "cell_type": "code",
   "execution_count": 11,
   "metadata": {},
   "outputs": [],
   "source": [
    "# obtain sd per geohash, generate a dataframe of noise=SD/10 and add to only generated values\n",
    "# adds noise to gen values only, based on original df\n",
    "\n",
    "def add_noise(df, df_final, multiplier=10):\n",
    "    mu, sigma = 0, df_final.std(axis=1)\n",
    "    num_col = len(df_final.columns)\n",
    "\n",
    "    noise_dict = {}\n",
    "    for i in range(len(sigma)):\n",
    "        noise_dict[i] = np.random.normal(mu, sigma[i], [1, num_col]).flatten()\n",
    "\n",
    "    noise_dict = pd.DataFrame.from_dict(noise_dict,'index')\n",
    "    noise_dict.index = df_final.index\n",
    "    noise_dict.columns = df_final.columns\n",
    "\n",
    "    df = df.replace(np.nan, -1)\n",
    "    df[df > 0] = 0\n",
    "    df_temp = df.replace(-1, 1) # from original df, set np.nan as 1, float value as 0\n",
    "    df_final_noise = (noise_dict/multiplier * df_temp) + df_final # multiply by noise df to obtain noise only for generated values\n",
    "    df_final_noise[df_final_noise < 0] = 0\n",
    "    return df_final_noise"
   ]
  },
  {
   "cell_type": "code",
   "execution_count": 12,
   "metadata": {},
   "outputs": [],
   "source": [
    "df_final_noise = add_noise(df, df_final)\n",
    "df_final_noise.to_csv(\"./../data_temp/df_transformed_filled.csv\")"
   ]
  },
  {
   "cell_type": "code",
   "execution_count": null,
   "metadata": {},
   "outputs": [],
   "source": []
  },
  {
   "cell_type": "markdown",
   "metadata": {},
   "source": [
    "### Plot with noise for comparison"
   ]
  },
  {
   "cell_type": "code",
   "execution_count": 13,
   "metadata": {
    "scrolled": false
   },
   "outputs": [
    {
     "name": "stderr",
     "output_type": "stream",
     "text": [
      "C:\\Users\\JiaWei\\Anaconda3\\envs\\GrabTraffic\\lib\\site-packages\\pandas\\plotting\\_converter.py:129: FutureWarning: Using an implicitly registered datetime converter for a matplotlib plotting method. The converter was registered by pandas on import. Future versions of pandas will require you to explicitly register matplotlib converters.\n",
      "\n",
      "To register the converters:\n",
      "\t>>> from pandas.plotting import register_matplotlib_converters\n",
      "\t>>> register_matplotlib_converters()\n",
      "  warnings.warn(msg, FutureWarning)\n"
     ]
    },
    {
     "data": {
      "image/png": "[encoded data removed]",
      "text/plain": [
       "<Figure size 1080x432 with 3 Axes>"
      ]
     },
     "metadata": {
      "needs_background": "light"
     },
     "output_type": "display_data"
    }
   ],
   "source": [
    "df_transformed = df_final_noise.replace(np.nan, 0)\n",
    "\n",
    "def get_timespan_15(df, startTime, endTime, freq='15min'):\n",
    "    return df[pd.date_range(startTime, endTime, freq=freq)] # inclusive\n",
    "\n",
    "# Demand per location over time (15min)\n",
    "geohash_str_1 = 'qp03yb'\n",
    "geohash_str_2 = 'qp02zg'\n",
    "geohash_str_3 = 'qp09t7'\n",
    "\n",
    "start_date = datetime(2019, 4, 1, 0)\n",
    "end_date = datetime(2019, 4, 10, 12)\n",
    "x = pd.date_range(start_date, end_date, freq=\"15min\").values\n",
    "\n",
    "y1 = get_timespan_15(df_transformed[df_transformed.index==geohash_str_1], start_date, end_date).values.flatten() # inclusive\n",
    "y2 = get_timespan_15(df_transformed[df_transformed.index==geohash_str_2], start_date, end_date).values.flatten()\n",
    "y3 = get_timespan_15(df_transformed[df_transformed.index==geohash_str_3], start_date, end_date).values.flatten()\n",
    "\n",
    "# Three subplots sharing both x/y axes\n",
    "f, (ax1, ax2, ax3) = plt.subplots(3, sharey=True)\n",
    "ax1.set_title('Daily Demand @ {} (15 min)'.format(geohash_str_1))\n",
    "ax2.set_title('Daily Demand @ {} (15 min)'.format(geohash_str_2))\n",
    "ax3.set_title('Daily Demand @ {} (15 min)'.format(geohash_str_3))\n",
    "ax1.plot(x, y1)\n",
    "ax2.plot(x, y2)\n",
    "ax3.plot(x, y3)\n",
    "\n",
    "# Fine-tune figure; make subplots close to each other and hide x ticks for\n",
    "# all but bottom plot.\n",
    "f.subplots_adjust(hspace=0)\n",
    "f.set_figheight(6)\n",
    "f.set_figwidth(15)"
   ]
  }
 ],
 "metadata": {
  "kernelspec": {
   "display_name": "Python 3",
   "language": "python",
   "name": "python3"
  },
  "language_info": {
   "codemirror_mode": {
    "name": "ipython",
    "version": 3
   },
   "file_extension": ".py",
   "mimetype": "text/x-python",
   "name": "python",
   "nbconvert_exporter": "python",
   "pygments_lexer": "ipython3",
   "version": "3.7.3"
  }
 },
 "nbformat": 4,
 "nbformat_minor": 2
}

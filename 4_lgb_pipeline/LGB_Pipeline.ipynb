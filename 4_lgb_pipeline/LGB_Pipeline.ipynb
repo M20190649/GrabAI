{
 "cells": [
  {
   "cell_type": "markdown",
   "metadata": {},
   "source": [
    "### Imports, datasets and helper functions"
   ]
  },
  {
   "cell_type": "code",
   "execution_count": 1,
   "metadata": {},
   "outputs": [],
   "source": [
    "import pickle, json\n",
    "from datetime import date, timedelta, datetime\n",
    "\n",
    "import numpy as np\n",
    "import pandas as pd\n",
    "import math\n",
    "\n",
    "import matplotlib.pyplot as plt\n",
    "from mpl_toolkits.axes_grid1 import AxesGrid\n",
    "\n",
    "import lightgbm as lgb\n",
    "\n",
    "from sklearn.model_selection import train_test_split\n",
    "from sklearn.metrics import mean_squared_error\n",
    "from sklearn.preprocessing import StandardScaler\n",
    "\n",
    "from functools import partial\n",
    "import multiprocessing\n",
    "from multiprocessing import Pool\n",
    "num_core = max(multiprocessing.cpu_count()-1,1)\n",
    "\n",
    "import gc\n",
    "\n",
    "import autoreload\n",
    "%load_ext autoreload\n",
    "%autoreload 2"
   ]
  },
  {
   "cell_type": "code",
   "execution_count": 2,
   "metadata": {},
   "outputs": [],
   "source": [
    "import sys\n",
    "sys.path.append(\"..\")\n",
    "from utils import prep_holdout_set, get_timespan_15, gen_features, gen_test_features, prep_dataset\n",
    "from utils import TIME_FEATURES, NUM_LABELS, NUM_REQ"
   ]
  },
  {
   "cell_type": "code",
   "execution_count": 3,
   "metadata": {},
   "outputs": [],
   "source": [
    "df = pd.read_csv(\"../data_temp/training_transformed.csv\") # \"data/df_transformed_simple_fill_noise.csv\"\n",
    "df = df.set_index('geohash6')\n",
    "df.columns = pd.DatetimeIndex(df.columns)\n",
    "# df = df.replace(-1, 0)\n",
    "\n",
    "cluster_df = pd.read_csv(\"../data_temp/cluster_df.csv\")\n",
    "cluster_df = cluster_df.set_index('geohash6')\n",
    "\n",
    "# we use last 7 days (25/5 - 31/5) as holdout set\n",
    "df_raw = pd.read_csv(\"../data_temp/training_timestamps.csv\") # training.csv but with parsed datetime, generated during Preprocessing\n",
    "df_raw['datetime'] = pd.to_datetime(df_raw['datetime'])\n",
    "df_holdout_raw = df_raw.loc[(df_raw.datetime>pd.datetime(2019,5, 25, 0, 0)) & (df_raw.datetime<pd.datetime(2019,5, 31, 22, 15))] \n",
    "# require 5 labels, dataset ends at 31/5 2345"
   ]
  },
  {
   "cell_type": "code",
   "execution_count": null,
   "metadata": {},
   "outputs": [],
   "source": []
  },
  {
   "cell_type": "markdown",
   "metadata": {},
   "source": [
    "### Create intermediate holdout set\n",
    "#### from which to extract holdout features"
   ]
  },
  {
   "cell_type": "code",
   "execution_count": 4,
   "metadata": {},
   "outputs": [],
   "source": [
    "# frac to speed up, tests show not much difference in performance\n",
    "\n",
    "df_holdout_raw = df_holdout_raw.sample(frac=0.1, random_state=8) \n",
    "\n",
    "# Split into partitions for multiprocessing\n",
    "partition_size = math.floor(len(df_holdout_raw.index) / num_core)\n",
    "holdout_partitions = [df_holdout_raw.iloc[i*partition_size:i*partition_size+partition_size,:] for i in range(0, num_core)]\n",
    "\n",
    "# Add remainders after dividing Dataframe\n",
    "if (num_core * partition_size < len(df_holdout_raw.index)): \n",
    "    leftover = df_holdout_raw[num_core * partition_size:]\n",
    "    holdout_partitions[num_core-1] = pd.concat([holdout_partitions[num_core-1], leftover], axis=0)"
   ]
  },
  {
   "cell_type": "code",
   "execution_count": 5,
   "metadata": {},
   "outputs": [],
   "source": [
    "# multiprocessing to generate \"transformed\" holdout set, used to generate test set\n",
    "\n",
    "results = []\n",
    "if __name__ == '__main__':\n",
    "    with Pool(num_core) as p:\n",
    "        results =  p.map_async(partial(prep_holdout_set, df=df), holdout_partitions)\n",
    "        p.close()\n",
    "        p.join()\n",
    "\n",
    "dt_holdout = datetime(2019, 5, 20) # arbitrary, value does not matter\n",
    "df_holdout, geohash_holdout = [], []\n",
    "\n",
    "results = [i for i in results.get()]\n",
    "for i in range(len(results)):\n",
    "    df_holdout.append(results[i][0])\n",
    "    geohash_holdout.append(results[i][1])\n",
    "\n",
    "geohash_holdout = sum(geohash_holdout, [])\n",
    "df_holdout = pd.DataFrame(sum(df_holdout, []))\n",
    "df_holdout.columns = pd.date_range(dt_holdout - timedelta(minutes=15 * NUM_REQ), dt_holdout + timedelta(minutes=15 * NUM_LABELS),\n",
    "                         freq=\"15min\")\n",
    "\n",
    "df_holdout['geohash6'] = geohash_holdout\n",
    "df_holdout = df_holdout.set_index('geohash6')\n",
    "dt_holdout_list = df_holdout_raw['datetime']"
   ]
  },
  {
   "cell_type": "code",
   "execution_count": null,
   "metadata": {},
   "outputs": [],
   "source": []
  },
  {
   "cell_type": "markdown",
   "metadata": {},
   "source": [
    "#### Init vars"
   ]
  },
  {
   "cell_type": "code",
   "execution_count": 7,
   "metadata": {},
   "outputs": [],
   "source": [
    "round = 1\n",
    "num_samples = 400\n",
    "y_pred, labels_list = [], [] #  val\n",
    "y_pred2, labels_list2 = [], [] # test\n",
    "\n",
    "dt_train = datetime(2019,5,23, 0, 0)\n",
    "dt_val = dt_train + timedelta(days=1)"
   ]
  },
  {
   "cell_type": "code",
   "execution_count": null,
   "metadata": {},
   "outputs": [],
   "source": []
  },
  {
   "cell_type": "markdown",
   "metadata": {},
   "source": [
    "#### Generate train, val, test sets"
   ]
  },
  {
   "cell_type": "code",
   "execution_count": 32,
   "metadata": {
    "scrolled": true
   },
   "outputs": [],
   "source": [
    "X_train, y_train = prep_dataset(dt_train, num_samples, df, cluster_df)\n",
    "X_val, y_val = prep_dataset(dt_val, 1, df, cluster_df)\n",
    "\n",
    "X_holdout, y_holdout = gen_test_features(dt_holdout, df_holdout, geohash_holdout, dt_holdout_list, cluster_df)"
   ]
  },
  {
   "cell_type": "code",
   "execution_count": 33,
   "metadata": {},
   "outputs": [],
   "source": [
    "scaler = StandardScaler()\n",
    "scaler.fit(pd.concat([X_train, X_val, X_holdout]))\n",
    "X_train[:] = scaler.transform(X_train)\n",
    "X_val[:] = scaler.transform(X_val)\n",
    "X_holdout[:] = scaler.transform(X_holdout)"
   ]
  },
  {
   "cell_type": "code",
   "execution_count": null,
   "metadata": {},
   "outputs": [],
   "source": []
  },
  {
   "cell_type": "markdown",
   "metadata": {},
   "source": [
    "#### Train model"
   ]
  },
  {
   "cell_type": "code",
   "execution_count": 34,
   "metadata": {
    "scrolled": true
   },
   "outputs": [
    {
     "name": "stdout",
     "output_type": "stream",
     "text": [
      "Model 5\n"
     ]
    },
    {
     "name": "stderr",
     "output_type": "stream",
     "text": [
      "C:\\Users\\JiaWei\\Anaconda3\\envs\\GrabTraffic\\lib\\site-packages\\lightgbm\\basic.py:1205: UserWarning: Using categorical_feature in Dataset.\n",
      "  warnings.warn('Using categorical_feature in Dataset.')\n",
      "C:\\Users\\JiaWei\\Anaconda3\\envs\\GrabTraffic\\lib\\site-packages\\lightgbm\\basic.py:762: UserWarning: categorical_feature in param dict is overridden.\n",
      "  warnings.warn('categorical_feature in param dict is overridden.')\n"
     ]
    },
    {
     "name": "stdout",
     "output_type": "stream",
     "text": [
      "Training until validation scores don't improve for 20 rounds.\n",
      "[50]\ttraining's rmse: 0.0880322\tvalid_1's rmse: 0.108308\n",
      "[100]\ttraining's rmse: 0.0571349\tvalid_1's rmse: 0.0704237\n",
      "[150]\ttraining's rmse: 0.0400106\tvalid_1's rmse: 0.0496106\n",
      "[200]\ttraining's rmse: 0.0312689\tvalid_1's rmse: 0.0391785\n",
      "[250]\ttraining's rmse: 0.0272216\tvalid_1's rmse: 0.0345544\n",
      "[300]\ttraining's rmse: 0.0254476\tvalid_1's rmse: 0.0326887\n",
      "[350]\ttraining's rmse: 0.0246461\tvalid_1's rmse: 0.0319499\n",
      "[400]\ttraining's rmse: 0.0242417\tvalid_1's rmse: 0.0316798\n",
      "[450]\ttraining's rmse: 0.0240022\tvalid_1's rmse: 0.0315595\n",
      "[500]\ttraining's rmse: 0.0238372\tvalid_1's rmse: 0.0315155\n",
      "[550]\ttraining's rmse: 0.0237097\tvalid_1's rmse: 0.0315029\n",
      "[600]\ttraining's rmse: 0.0236031\tvalid_1's rmse: 0.0315015\n",
      "Early stopping, best iteration is:\n",
      "[584]\ttraining's rmse: 0.0236389\tvalid_1's rmse: 0.0314923\n"
     ]
    },
    {
     "data": {
      "text/plain": [
       "<lightgbm.basic.Booster at 0x263803e9d30>"
      ]
     },
     "execution_count": 34,
     "metadata": {},
     "output_type": "execute_result"
    }
   ],
   "source": [
    "MAX_ROUNDS = 2000\n",
    "params = {\n",
    "    'learning_rate' : 0.01,\n",
    "    'metric': 'rmse',\n",
    "    'objective': 'regression',\n",
    "    'boosting_type': 'gbdt',\n",
    "    'feature_fraction': 0.5,\n",
    "    'max_bin': 800,\n",
    "    'min_split_gain': 0.03,\n",
    "    'subsample_for_bin': 3000\n",
    "}\n",
    "\n",
    "cate_vars = ['demand-3500', 'demand-3000', 'demand-2800', 'demand-2500', 'demand-2000',\n",
    "            'lat', 'lon', 'grid_id_by_lat', 'grid_id_by_lon']\n",
    "\n",
    "evals_result = {}\n",
    "\n",
    "print('Model {}'.format(round))\n",
    "\n",
    "dtrain = lgb.Dataset(\n",
    "            X_train, label=y_train,\n",
    "            categorical_feature=cate_vars)\n",
    "\n",
    "dval = lgb.Dataset(\n",
    "            X_holdout, label=y_holdout, reference=dtrain,\n",
    "            categorical_feature=cate_vars)\n",
    "\n",
    "model = lgb.train(\n",
    "                params, dtrain, num_boost_round=MAX_ROUNDS,\n",
    "                valid_sets=[dtrain, dval], early_stopping_rounds=20,\n",
    "                verbose_eval=50, evals_result=evals_result)\n",
    "\n",
    "model.save_model('./../models/model_%s.txt' % round)"
   ]
  },
  {
   "cell_type": "markdown",
   "metadata": {},
   "source": [
    "#### Handle predictions"
   ]
  },
  {
   "cell_type": "code",
   "execution_count": 36,
   "metadata": {},
   "outputs": [
    {
     "name": "stdout",
     "output_type": "stream",
     "text": [
      "Overall rmse for T+1 -> T+5\n",
      "Validation rmse: 0.02042119235079156\n",
      "Holdout rmse: 0.03177940766270485\n"
     ]
    }
   ],
   "source": [
    "# Handle prediction\n",
    "\n",
    "y_pred.append(model.predict(X_val).tolist())\n",
    "labels_list.append(y_val.tolist())\n",
    "\n",
    "y_pred2.append(model.predict(X_holdout).tolist())\n",
    "labels_list2.append(y_holdout.tolist())\n",
    "\n",
    "print(\"Overall rmse for T+1 -> T+%s\" % round)\n",
    "\n",
    "val_rms = math.sqrt(mean_squared_error([item for items in y_pred for item in items], [item for items in labels_list for item in items]))\n",
    "print(\"Validation rmse:\", val_rms)\n",
    "\n",
    "holdout_rms = math.sqrt(mean_squared_error([item for items in y_pred2 for item in items], [item for items in labels_list2 for item in items]))\n",
    "print(\"Holdout rmse:\", holdout_rms)"
   ]
  },
  {
   "cell_type": "code",
   "execution_count": null,
   "metadata": {},
   "outputs": [],
   "source": [
    "# rolling forecast\n",
    "# Rerun all cells starting from \"Generate train, val, test sets\" to get the next set of predictions\n",
    "# Repeat until T+5 to get the overall holdout rmse\n",
    "\n",
    "round += 1\n",
    "dt_train = dt_train + timedelta(minutes=15)\n",
    "dt_val = dt_train + timedelta(days=1)\n",
    "dt_holdout = dt_holdout + timedelta(minutes=15)"
   ]
  },
  {
   "cell_type": "code",
   "execution_count": null,
   "metadata": {},
   "outputs": [],
   "source": []
  },
  {
   "cell_type": "markdown",
   "metadata": {},
   "source": [
    "#### Utils"
   ]
  },
  {
   "cell_type": "code",
   "execution_count": 16,
   "metadata": {},
   "outputs": [
    {
     "data": {
      "image/png": "[encoded data removed]",
      "text/plain": [
       "<Figure size 288x288 with 1 Axes>"
      ]
     },
     "metadata": {
      "needs_background": "light"
     },
     "output_type": "display_data"
    }
   ],
   "source": [
    "# show feature correlation plot\n",
    "\n",
    "import matplotlib.pyplot as plt\n",
    "\n",
    "plt.matshow(X_train.corr())\n",
    "plt.show()"
   ]
  },
  {
   "cell_type": "code",
   "execution_count": null,
   "metadata": {},
   "outputs": [],
   "source": []
  }
 ],
 "metadata": {
  "kernelspec": {
   "display_name": "Python 3",
   "language": "python",
   "name": "python3"
  },
  "language_info": {
   "codemirror_mode": {
    "name": "ipython",
    "version": 3
   },
   "file_extension": ".py",
   "mimetype": "text/x-python",
   "name": "python",
   "nbconvert_exporter": "python",
   "pygments_lexer": "ipython3",
   "version": "3.7.3"
  }
 },
 "nbformat": 4,
 "nbformat_minor": 2
}
